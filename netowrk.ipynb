{
 "cells": [
  {
   "cell_type": "code",
   "execution_count": 2,
   "metadata": {},
   "outputs": [],
   "source": [
    "import numpy as np\n",
    "import pandas as pd\n",
    "from matplotlib import pyplot as plt"
   ]
  },
  {
   "cell_type": "code",
   "execution_count": 3,
   "metadata": {},
   "outputs": [],
   "source": [
    "data = pd.read_csv('digit-recognizer/train.csv')\n"
   ]
  },
  {
   "cell_type": "code",
   "execution_count": 50,
   "metadata": {},
   "outputs": [
    {
     "data": {
      "text/html": [
       "<div>\n",
       "<style scoped>\n",
       "    .dataframe tbody tr th:only-of-type {\n",
       "        vertical-align: middle;\n",
       "    }\n",
       "\n",
       "    .dataframe tbody tr th {\n",
       "        vertical-align: top;\n",
       "    }\n",
       "\n",
       "    .dataframe thead th {\n",
       "        text-align: right;\n",
       "    }\n",
       "</style>\n",
       "<table border=\"1\" class=\"dataframe\">\n",
       "  <thead>\n",
       "    <tr style=\"text-align: right;\">\n",
       "      <th></th>\n",
       "      <th>label</th>\n",
       "      <th>pixel0</th>\n",
       "      <th>pixel1</th>\n",
       "      <th>pixel2</th>\n",
       "      <th>pixel3</th>\n",
       "      <th>pixel4</th>\n",
       "      <th>pixel5</th>\n",
       "      <th>pixel6</th>\n",
       "      <th>pixel7</th>\n",
       "      <th>pixel8</th>\n",
       "      <th>...</th>\n",
       "      <th>pixel774</th>\n",
       "      <th>pixel775</th>\n",
       "      <th>pixel776</th>\n",
       "      <th>pixel777</th>\n",
       "      <th>pixel778</th>\n",
       "      <th>pixel779</th>\n",
       "      <th>pixel780</th>\n",
       "      <th>pixel781</th>\n",
       "      <th>pixel782</th>\n",
       "      <th>pixel783</th>\n",
       "    </tr>\n",
       "  </thead>\n",
       "  <tbody>\n",
       "    <tr>\n",
       "      <th>0</th>\n",
       "      <td>1</td>\n",
       "      <td>0</td>\n",
       "      <td>0</td>\n",
       "      <td>0</td>\n",
       "      <td>0</td>\n",
       "      <td>0</td>\n",
       "      <td>0</td>\n",
       "      <td>0</td>\n",
       "      <td>0</td>\n",
       "      <td>0</td>\n",
       "      <td>...</td>\n",
       "      <td>0</td>\n",
       "      <td>0</td>\n",
       "      <td>0</td>\n",
       "      <td>0</td>\n",
       "      <td>0</td>\n",
       "      <td>0</td>\n",
       "      <td>0</td>\n",
       "      <td>0</td>\n",
       "      <td>0</td>\n",
       "      <td>0</td>\n",
       "    </tr>\n",
       "    <tr>\n",
       "      <th>1</th>\n",
       "      <td>0</td>\n",
       "      <td>0</td>\n",
       "      <td>0</td>\n",
       "      <td>0</td>\n",
       "      <td>0</td>\n",
       "      <td>0</td>\n",
       "      <td>0</td>\n",
       "      <td>0</td>\n",
       "      <td>0</td>\n",
       "      <td>0</td>\n",
       "      <td>...</td>\n",
       "      <td>0</td>\n",
       "      <td>0</td>\n",
       "      <td>0</td>\n",
       "      <td>0</td>\n",
       "      <td>0</td>\n",
       "      <td>0</td>\n",
       "      <td>0</td>\n",
       "      <td>0</td>\n",
       "      <td>0</td>\n",
       "      <td>0</td>\n",
       "    </tr>\n",
       "    <tr>\n",
       "      <th>2</th>\n",
       "      <td>1</td>\n",
       "      <td>0</td>\n",
       "      <td>0</td>\n",
       "      <td>0</td>\n",
       "      <td>0</td>\n",
       "      <td>0</td>\n",
       "      <td>0</td>\n",
       "      <td>0</td>\n",
       "      <td>0</td>\n",
       "      <td>0</td>\n",
       "      <td>...</td>\n",
       "      <td>0</td>\n",
       "      <td>0</td>\n",
       "      <td>0</td>\n",
       "      <td>0</td>\n",
       "      <td>0</td>\n",
       "      <td>0</td>\n",
       "      <td>0</td>\n",
       "      <td>0</td>\n",
       "      <td>0</td>\n",
       "      <td>0</td>\n",
       "    </tr>\n",
       "    <tr>\n",
       "      <th>3</th>\n",
       "      <td>4</td>\n",
       "      <td>0</td>\n",
       "      <td>0</td>\n",
       "      <td>0</td>\n",
       "      <td>0</td>\n",
       "      <td>0</td>\n",
       "      <td>0</td>\n",
       "      <td>0</td>\n",
       "      <td>0</td>\n",
       "      <td>0</td>\n",
       "      <td>...</td>\n",
       "      <td>0</td>\n",
       "      <td>0</td>\n",
       "      <td>0</td>\n",
       "      <td>0</td>\n",
       "      <td>0</td>\n",
       "      <td>0</td>\n",
       "      <td>0</td>\n",
       "      <td>0</td>\n",
       "      <td>0</td>\n",
       "      <td>0</td>\n",
       "    </tr>\n",
       "    <tr>\n",
       "      <th>4</th>\n",
       "      <td>0</td>\n",
       "      <td>0</td>\n",
       "      <td>0</td>\n",
       "      <td>0</td>\n",
       "      <td>0</td>\n",
       "      <td>0</td>\n",
       "      <td>0</td>\n",
       "      <td>0</td>\n",
       "      <td>0</td>\n",
       "      <td>0</td>\n",
       "      <td>...</td>\n",
       "      <td>0</td>\n",
       "      <td>0</td>\n",
       "      <td>0</td>\n",
       "      <td>0</td>\n",
       "      <td>0</td>\n",
       "      <td>0</td>\n",
       "      <td>0</td>\n",
       "      <td>0</td>\n",
       "      <td>0</td>\n",
       "      <td>0</td>\n",
       "    </tr>\n",
       "  </tbody>\n",
       "</table>\n",
       "<p>5 rows × 785 columns</p>\n",
       "</div>"
      ],
      "text/plain": [
       "   label  pixel0  pixel1  pixel2  pixel3  pixel4  pixel5  pixel6  pixel7  \\\n",
       "0      1       0       0       0       0       0       0       0       0   \n",
       "1      0       0       0       0       0       0       0       0       0   \n",
       "2      1       0       0       0       0       0       0       0       0   \n",
       "3      4       0       0       0       0       0       0       0       0   \n",
       "4      0       0       0       0       0       0       0       0       0   \n",
       "\n",
       "   pixel8  ...  pixel774  pixel775  pixel776  pixel777  pixel778  pixel779  \\\n",
       "0       0  ...         0         0         0         0         0         0   \n",
       "1       0  ...         0         0         0         0         0         0   \n",
       "2       0  ...         0         0         0         0         0         0   \n",
       "3       0  ...         0         0         0         0         0         0   \n",
       "4       0  ...         0         0         0         0         0         0   \n",
       "\n",
       "   pixel780  pixel781  pixel782  pixel783  \n",
       "0         0         0         0         0  \n",
       "1         0         0         0         0  \n",
       "2         0         0         0         0  \n",
       "3         0         0         0         0  \n",
       "4         0         0         0         0  \n",
       "\n",
       "[5 rows x 785 columns]"
      ]
     },
     "execution_count": 50,
     "metadata": {},
     "output_type": "execute_result"
    }
   ],
   "source": [
    "data.head()"
   ]
  },
  {
   "cell_type": "code",
   "execution_count": 8,
   "metadata": {},
   "outputs": [],
   "source": [
    "data =  np.array(data)\n",
    "m,n = data.shape\n",
    "np.random.shuffle(data)\n",
    "\n",
    "data_dev = data[0:1000].T\n",
    "Y_dev = data_dev[0]\n",
    "X_dev = data_dev[1:n]\n",
    "X_dev = X_dev / 255\n",
    "\n",
    "data_train = data[1000:m].T\n",
    "Y_train = data_train[0]\n",
    "X_train = data_train[1:n]\n",
    "X_train = X_train / 255\n"
   ]
  },
  {
   "cell_type": "code",
   "execution_count": 9,
   "metadata": {},
   "outputs": [
    {
     "data": {
      "text/plain": [
       "array([6, 4, 2, ..., 7, 0, 2], dtype=int64)"
      ]
     },
     "execution_count": 9,
     "metadata": {},
     "output_type": "execute_result"
    }
   ],
   "source": [
    "Y_train"
   ]
  },
  {
   "cell_type": "code",
   "execution_count": 10,
   "metadata": {},
   "outputs": [
    {
     "data": {
      "text/plain": [
       "array([[0., 0., 0., ..., 0., 0., 0.],\n",
       "       [0., 0., 0., ..., 0., 0., 0.],\n",
       "       [0., 0., 0., ..., 0., 0., 0.],\n",
       "       ...,\n",
       "       [0., 0., 0., ..., 0., 0., 0.],\n",
       "       [0., 0., 0., ..., 0., 0., 0.],\n",
       "       [0., 0., 0., ..., 0., 0., 0.]])"
      ]
     },
     "execution_count": 10,
     "metadata": {},
     "output_type": "execute_result"
    }
   ],
   "source": [
    "X_train"
   ]
  },
  {
   "cell_type": "code",
   "execution_count": 11,
   "metadata": {},
   "outputs": [
    {
     "data": {
      "text/plain": [
       "(784,)"
      ]
     },
     "execution_count": 11,
     "metadata": {},
     "output_type": "execute_result"
    }
   ],
   "source": [
    "X_train[:,0].shape"
   ]
  },
  {
   "cell_type": "code",
   "execution_count": 12,
   "metadata": {},
   "outputs": [],
   "source": [
    "def init_params():\n",
    "    w_1 = np.random.rand(10,784) - 0.5\n",
    "    b_1 = np.random.rand(10,1) - 0.5\n",
    "    w_2   = np.random.rand(10,10) - 0.5\n",
    "    b_2 = np.random.rand(10,1) - 0.5\n",
    "    return w_1,b_1,w_2,b_2"
   ]
  },
  {
   "cell_type": "code",
   "execution_count": 13,
   "metadata": {},
   "outputs": [],
   "source": [
    "def ReLU(Z):\n",
    "    return np.maximum(0,Z)"
   ]
  },
  {
   "cell_type": "code",
   "execution_count": 14,
   "metadata": {},
   "outputs": [],
   "source": [
    "def derv_ReLU(Z):\n",
    "    return Z>0"
   ]
  },
  {
   "cell_type": "code",
   "execution_count": 15,
   "metadata": {},
   "outputs": [],
   "source": [
    "def softmax(Z):\n",
    "    return np.exp(Z) / sum(np.exp(Z))"
   ]
  },
  {
   "cell_type": "code",
   "execution_count": 16,
   "metadata": {},
   "outputs": [],
   "source": [
    "def forward_prop(w_1,b_1,w_2,b_2,X):\n",
    "    Z_1 = w_1.dot(X) + b_1\n",
    "    A_1 = ReLU(Z_1)\n",
    "    Z_2 = w_2.dot(A_1)+b_2\n",
    "    A_2 = softmax(Z_2)\n",
    "    \n",
    "    return Z_1,A_1,Z_2,A_2"
   ]
  },
  {
   "cell_type": "code",
   "execution_count": 17,
   "metadata": {},
   "outputs": [],
   "source": [
    "def one_hot(Y):\n",
    "    one_hot_Y = np.zeros((Y.size,Y.max()+1))\n",
    "    one_hot_Y[np.arange(Y.size),Y] =1\n",
    "    one_hot_Y = one_hot_Y.T\n",
    "    return one_hot_Y"
   ]
  },
  {
   "cell_type": "code",
   "execution_count": 18,
   "metadata": {},
   "outputs": [],
   "source": [
    "def back_prop(Z_1,A_1,Z_2,A_2,W_2,X, Y):\n",
    "    one_hot_Y = one_hot(Y)\n",
    "    d_Z_2 = A_2 - one_hot_Y\n",
    "    d_W_2 =(1 / m)  * d_Z_2.dot(A_1.T)\n",
    "    d_b_2 = (1 /m) *np.sum(d_Z_2)\n",
    "    d_Z_1 = W_2.T.dot(d_Z_2)* derv_ReLU(Z_1)\n",
    "    d_W_1 = 1/m * d_Z_1.dot(X.T)\n",
    "    d_b_1 = 1/m * np.sum(d_Z_1)\n",
    "    return d_W_1,d_b_1,d_W_2,d_b_2"
   ]
  },
  {
   "cell_type": "code",
   "execution_count": 19,
   "metadata": {},
   "outputs": [],
   "source": [
    "def update_params(w_1,b_1,w_2,b_2,d_W_1,d_b_1,d_W_2,d_b_2,alpha):\n",
    "    w_1 = w_1 -alpha *d_W_1\n",
    "    w_2 = w_2 -alpha *d_W_2\n",
    "    b_1 = b_1 -alpha * d_b_1\n",
    "    b_2 = b_2 -alpha * d_b_2\n",
    "    return w_1,b_1,w_2,b_2"
   ]
  },
  {
   "cell_type": "code",
   "execution_count": 20,
   "metadata": {},
   "outputs": [],
   "source": [
    "def get_predictions(A_2):\n",
    "    return np.argmax(A_2,0)"
   ]
  },
  {
   "cell_type": "code",
   "execution_count": 21,
   "metadata": {},
   "outputs": [],
   "source": [
    "def get_accuracy(predictions,Y):\n",
    "    return np.sum(predictions == Y)/Y.size"
   ]
  },
  {
   "cell_type": "code",
   "execution_count": 22,
   "metadata": {},
   "outputs": [],
   "source": [
    "def gradient_descent(X,Y,iterations,alpha):\n",
    "    w_1,b_1,w_2,b_2 = init_params()\n",
    "    \n",
    "    for i in range(iterations):\n",
    "        Z_1, A_1, Z_2, A_2 = forward_prop(w_1, b_1, w_2, b_2, X)\n",
    "        d_W_1,d_b_1,d_W_2,d_b_2 = back_prop(Z_1,A_1,Z_2,A_2,w_2,X,Y)\n",
    "        w_1,b_1,w_2,b_2 = update_params(w_1,b_1,w_2,b_2,d_W_1,d_b_1,d_W_2,d_b_2,alpha)\n",
    "        if i % 10 == 0:\n",
    "            print(\"Iteration: \",i)\n",
    "            print(\"Accuracy: \",get_accuracy(get_predictions(A_2),Y)) \n",
    "    return w_1,b_1,w_2,b_2\n",
    "    \n",
    "    \n",
    "    "
   ]
  },
  {
   "cell_type": "code",
   "execution_count": 32,
   "metadata": {},
   "outputs": [
    {
     "name": "stdout",
     "output_type": "stream",
     "text": [
      "Iteration:  0\n",
      "Accuracy:  0.08275609756097561\n",
      "Iteration:  10\n",
      "Accuracy:  0.2553170731707317\n",
      "Iteration:  20\n",
      "Accuracy:  0.3400487804878049\n",
      "Iteration:  30\n",
      "Accuracy:  0.38397560975609757\n",
      "Iteration:  40\n",
      "Accuracy:  0.4191219512195122\n",
      "Iteration:  50\n",
      "Accuracy:  0.45463414634146343\n",
      "Iteration:  60\n",
      "Accuracy:  0.49590243902439024\n",
      "Iteration:  70\n",
      "Accuracy:  0.5356829268292683\n",
      "Iteration:  80\n",
      "Accuracy:  0.5681463414634146\n",
      "Iteration:  90\n",
      "Accuracy:  0.5991951219512195\n",
      "Iteration:  100\n",
      "Accuracy:  0.6262926829268293\n",
      "Iteration:  110\n",
      "Accuracy:  0.6491463414634147\n",
      "Iteration:  120\n",
      "Accuracy:  0.6690487804878049\n",
      "Iteration:  130\n",
      "Accuracy:  0.6861951219512196\n",
      "Iteration:  140\n",
      "Accuracy:  0.7019268292682926\n",
      "Iteration:  150\n",
      "Accuracy:  0.715609756097561\n",
      "Iteration:  160\n",
      "Accuracy:  0.7278292682926829\n",
      "Iteration:  170\n",
      "Accuracy:  0.7381951219512195\n",
      "Iteration:  180\n",
      "Accuracy:  0.7476829268292683\n",
      "Iteration:  190\n",
      "Accuracy:  0.756780487804878\n",
      "Iteration:  200\n",
      "Accuracy:  0.7645121951219512\n",
      "Iteration:  210\n",
      "Accuracy:  0.771219512195122\n",
      "Iteration:  220\n",
      "Accuracy:  0.7780731707317073\n",
      "Iteration:  230\n",
      "Accuracy:  0.7837560975609756\n",
      "Iteration:  240\n",
      "Accuracy:  0.7887804878048781\n",
      "Iteration:  250\n",
      "Accuracy:  0.7930975609756098\n",
      "Iteration:  260\n",
      "Accuracy:  0.7974878048780488\n",
      "Iteration:  270\n",
      "Accuracy:  0.801609756097561\n",
      "Iteration:  280\n",
      "Accuracy:  0.8053170731707318\n",
      "Iteration:  290\n",
      "Accuracy:  0.8086585365853659\n",
      "Iteration:  300\n",
      "Accuracy:  0.8118536585365854\n",
      "Iteration:  310\n",
      "Accuracy:  0.8151463414634146\n",
      "Iteration:  320\n",
      "Accuracy:  0.8184146341463414\n",
      "Iteration:  330\n",
      "Accuracy:  0.8210487804878048\n",
      "Iteration:  340\n",
      "Accuracy:  0.8236829268292682\n",
      "Iteration:  350\n",
      "Accuracy:  0.8262439024390243\n",
      "Iteration:  360\n",
      "Accuracy:  0.8285853658536585\n",
      "Iteration:  370\n",
      "Accuracy:  0.8306585365853658\n",
      "Iteration:  380\n",
      "Accuracy:  0.8330731707317073\n",
      "Iteration:  390\n",
      "Accuracy:  0.834390243902439\n",
      "Iteration:  400\n",
      "Accuracy:  0.8360487804878048\n",
      "Iteration:  410\n",
      "Accuracy:  0.8381219512195122\n",
      "Iteration:  420\n",
      "Accuracy:  0.8399512195121951\n",
      "Iteration:  430\n",
      "Accuracy:  0.841780487804878\n",
      "Iteration:  440\n",
      "Accuracy:  0.8432439024390244\n",
      "Iteration:  450\n",
      "Accuracy:  0.844780487804878\n",
      "Iteration:  460\n",
      "Accuracy:  0.8457073170731707\n",
      "Iteration:  470\n",
      "Accuracy:  0.8469268292682927\n",
      "Iteration:  480\n",
      "Accuracy:  0.8480731707317073\n",
      "Iteration:  490\n",
      "Accuracy:  0.8490243902439024\n",
      "Iteration:  500\n",
      "Accuracy:  0.8501219512195122\n",
      "Iteration:  510\n",
      "Accuracy:  0.8511951219512195\n",
      "Iteration:  520\n",
      "Accuracy:  0.8524634146341463\n",
      "Iteration:  530\n",
      "Accuracy:  0.8533658536585366\n",
      "Iteration:  540\n",
      "Accuracy:  0.854170731707317\n",
      "Iteration:  550\n",
      "Accuracy:  0.8553414634146341\n",
      "Iteration:  560\n",
      "Accuracy:  0.8562195121951219\n",
      "Iteration:  570\n",
      "Accuracy:  0.8569512195121951\n",
      "Iteration:  580\n",
      "Accuracy:  0.8581219512195122\n",
      "Iteration:  590\n",
      "Accuracy:  0.8588536585365854\n",
      "Iteration:  600\n",
      "Accuracy:  0.8596829268292683\n",
      "Iteration:  610\n",
      "Accuracy:  0.8603414634146341\n",
      "Iteration:  620\n",
      "Accuracy:  0.8611219512195122\n",
      "Iteration:  630\n",
      "Accuracy:  0.8618536585365854\n",
      "Iteration:  640\n",
      "Accuracy:  0.8627073170731707\n",
      "Iteration:  650\n",
      "Accuracy:  0.8634390243902439\n",
      "Iteration:  660\n",
      "Accuracy:  0.8640731707317073\n",
      "Iteration:  670\n",
      "Accuracy:  0.8647560975609756\n",
      "Iteration:  680\n",
      "Accuracy:  0.8654146341463415\n",
      "Iteration:  690\n",
      "Accuracy:  0.8660975609756097\n",
      "Iteration:  700\n",
      "Accuracy:  0.8664390243902439\n",
      "Iteration:  710\n",
      "Accuracy:  0.8670975609756097\n",
      "Iteration:  720\n",
      "Accuracy:  0.8678048780487805\n",
      "Iteration:  730\n",
      "Accuracy:  0.8685121951219512\n",
      "Iteration:  740\n",
      "Accuracy:  0.8691219512195122\n",
      "Iteration:  750\n",
      "Accuracy:  0.8695365853658537\n",
      "Iteration:  760\n",
      "Accuracy:  0.8700731707317073\n",
      "Iteration:  770\n",
      "Accuracy:  0.8705609756097561\n",
      "Iteration:  780\n",
      "Accuracy:  0.871\n",
      "Iteration:  790\n",
      "Accuracy:  0.8714390243902439\n",
      "Iteration:  800\n",
      "Accuracy:  0.8720975609756098\n",
      "Iteration:  810\n",
      "Accuracy:  0.8726829268292683\n",
      "Iteration:  820\n",
      "Accuracy:  0.8729268292682927\n",
      "Iteration:  830\n",
      "Accuracy:  0.8732926829268293\n",
      "Iteration:  840\n",
      "Accuracy:  0.8738048780487805\n",
      "Iteration:  850\n",
      "Accuracy:  0.8744146341463415\n",
      "Iteration:  860\n",
      "Accuracy:  0.8747073170731707\n",
      "Iteration:  870\n",
      "Accuracy:  0.8751463414634146\n",
      "Iteration:  880\n",
      "Accuracy:  0.8756341463414634\n",
      "Iteration:  890\n",
      "Accuracy:  0.8760731707317073\n",
      "Iteration:  900\n",
      "Accuracy:  0.8767560975609756\n",
      "Iteration:  910\n",
      "Accuracy:  0.877219512195122\n",
      "Iteration:  920\n",
      "Accuracy:  0.8775609756097561\n",
      "Iteration:  930\n",
      "Accuracy:  0.8778536585365854\n",
      "Iteration:  940\n",
      "Accuracy:  0.8781707317073171\n",
      "Iteration:  950\n",
      "Accuracy:  0.8784634146341463\n",
      "Iteration:  960\n",
      "Accuracy:  0.878780487804878\n",
      "Iteration:  970\n",
      "Accuracy:  0.8790487804878049\n",
      "Iteration:  980\n",
      "Accuracy:  0.8793658536585366\n",
      "Iteration:  990\n",
      "Accuracy:  0.8795121951219512\n"
     ]
    }
   ],
   "source": [
    "w_1,b_1,w_2,b_2 = gradient_descent(X_train,Y_train,1000,0.10)"
   ]
  },
  {
   "cell_type": "code",
   "execution_count": 33,
   "metadata": {},
   "outputs": [],
   "source": [
    "def make_predictions(X,w_1,b_1,w_2,b_2):\n",
    "    _,_,_,A_2 = forward_prop(w_1,b_1,w_2,b_2,X)\n",
    "    predictions = get_predictions(A_2)\n",
    "    return predictions"
   ]
  },
  {
   "cell_type": "code",
   "execution_count": 34,
   "metadata": {},
   "outputs": [],
   "source": [
    "def test_prediction(index,w_1,b_1,w_2,b_2):\n",
    "    current_image = X_train[:,index, None]\n",
    "    prediction = make_predictions(X_train[:, index, None],w_1,b_1,w_2,b_2)\n",
    "    label = Y_train[index]\n",
    "    print(\"Prediction:\", prediction)\n",
    "    print(\"Label:\", label)\n",
    "    \n",
    "    current_image = current_image.reshape((28,28)) * 255\n",
    "    plt.gray()\n",
    "    plt.imshow(current_image, interpolation='nearest')\n",
    "    plt.show()"
   ]
  },
  {
   "cell_type": "code",
   "execution_count": 35,
   "metadata": {},
   "outputs": [
    {
     "name": "stdout",
     "output_type": "stream",
     "text": [
      "Prediction: [6]\n",
      "Label: 6\n"
     ]
    },
    {
     "data": {
      "image/png": "[encoded data removed]",
      "text/plain": [
       "<Figure size 640x480 with 1 Axes>"
      ]
     },
     "metadata": {},
     "output_type": "display_data"
    },
    {
     "name": "stdout",
     "output_type": "stream",
     "text": [
      "Prediction: [4]\n",
      "Label: 4\n"
     ]
    },
    {
     "data": {
      "image/png": "[encoded data removed]",
      "text/plain": [
       "<Figure size 640x480 with 1 Axes>"
      ]
     },
     "metadata": {},
     "output_type": "display_data"
    },
    {
     "name": "stdout",
     "output_type": "stream",
     "text": [
      "Prediction: [2]\n",
      "Label: 2\n"
     ]
    },
    {
     "data": {
      "image/png": "[encoded data removed]",
      "text/plain": [
       "<Figure size 640x480 with 1 Axes>"
      ]
     },
     "metadata": {},
     "output_type": "display_data"
    },
    {
     "name": "stdout",
     "output_type": "stream",
     "text": [
      "Prediction: [6]\n",
      "Label: 6\n"
     ]
    },
    {
     "data": {
      "image/png": "[encoded data removed]",
      "text/plain": [
       "<Figure size 640x480 with 1 Axes>"
      ]
     },
     "metadata": {},
     "output_type": "display_data"
    }
   ],
   "source": [
    "test_prediction(0,w_1,b_1,w_2,b_2)\n",
    "test_prediction(1,w_1,b_1,w_2,b_2)\n",
    "test_prediction(2,w_1,b_1,w_2,b_2)\n",
    "test_prediction(3,w_1,b_1,w_2,b_2)"
   ]
  },
  {
   "cell_type": "code",
   "execution_count": 36,
   "metadata": {},
   "outputs": [
    {
     "data": {
      "text/plain": [
       "0.879"
      ]
     },
     "execution_count": 36,
     "metadata": {},
     "output_type": "execute_result"
    }
   ],
   "source": [
    "dev_predictions = make_predictions(X_dev,w_1,b_1,w_2,b_2)\n",
    "get_accuracy(dev_predictions,Y_dev)"
   ]
  },
  {
   "cell_type": "code",
   "execution_count": null,
   "metadata": {},
   "outputs": [],
   "source": []
  }
 ],
 "metadata": {
  "kernelspec": {
   "display_name": "Python 3",
   "language": "python",
   "name": "python3"
  },
  "language_info": {
   "codemirror_mode": {
    "name": "ipython",
    "version": 3
   },
   "file_extension": ".py",
   "mimetype": "text/x-python",
   "name": "python",
   "nbconvert_exporter": "python",
   "pygments_lexer": "ipython3",
   "version": "3.12.6"
  }
 },
 "nbformat": 4,
 "nbformat_minor": 2
}
